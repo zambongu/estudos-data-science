{
 "cells": [
  {
   "cell_type": "code",
   "execution_count": null,
   "id": "c2b52dda",
   "metadata": {},
   "outputs": [],
   "source": [
    "print(\"Hello, World!\")"
   ]
  },
  {
   "cell_type": "code",
   "execution_count": 3,
   "id": "cf215fa6",
   "metadata": {},
   "outputs": [],
   "source": [
    "x = 1"
   ]
  },
  {
   "cell_type": "code",
   "execution_count": 4,
   "id": "4785d5b5",
   "metadata": {},
   "outputs": [],
   "source": [
    "mensagem = \"Teste\""
   ]
  },
  {
   "cell_type": "code",
   "execution_count": 1,
   "id": "316462a5",
   "metadata": {},
   "outputs": [],
   "source": [
    "continua = True"
   ]
  },
  {
   "cell_type": "code",
   "execution_count": 5,
   "id": "ec3a129e",
   "metadata": {},
   "outputs": [
    {
     "name": "stdout",
     "output_type": "stream",
     "text": [
      "1 Teste True\n"
     ]
    }
   ],
   "source": [
    "print(x, mensagem, continua)"
   ]
  },
  {
   "cell_type": "code",
   "execution_count": 9,
   "id": "431ef07b",
   "metadata": {},
   "outputs": [
    {
     "name": "stdout",
     "output_type": "stream",
     "text": [
      "Conheça o bar Apostrofo's\n",
      "Barra invertida: \\\n"
     ]
    }
   ],
   "source": [
    "print(\"Conheça o bar Apostrofo's\")\n",
    "print(\"Barra invertida: \\\\\")"
   ]
  },
  {
   "cell_type": "code",
   "execution_count": 12,
   "id": "a025bc54",
   "metadata": {},
   "outputs": [
    {
     "name": "stdout",
     "output_type": "stream",
     "text": [
      "No meio do caminho tinha uma pedra\n",
      "No meio do caminho ####"
     ]
    }
   ],
   "source": [
    "print('No meio do caminho ', end='')\n",
    "print('tinha uma pedra')\n",
    "print('No meio do caminho ', end='####')"
   ]
  },
  {
   "cell_type": "code",
   "execution_count": 14,
   "id": "b28553ab",
   "metadata": {},
   "outputs": [
    {
     "name": "stdout",
     "output_type": "stream",
     "text": [
      "A*B*C\n"
     ]
    }
   ],
   "source": [
    "print(\"A\", \"B\", \"C\", sep='*')"
   ]
  },
  {
   "cell_type": "code",
   "execution_count": 15,
   "id": "352d04c1",
   "metadata": {},
   "outputs": [
    {
     "name": "stdout",
     "output_type": "stream",
     "text": [
      "A \n",
      " B \n",
      " C \n",
      "\n"
     ]
    }
   ],
   "source": [
    "print(\"A\", \"\\n\", \"B\", \"\\n\", \"C\", \"\\n\")"
   ]
  },
  {
   "cell_type": "code",
   "execution_count": 16,
   "id": "f662d3fb",
   "metadata": {},
   "outputs": [
    {
     "data": {
      "text/plain": [
       "'c:\\\\Users\\\\loren\\\\Documents\\\\estudos-data-science\\\\Estudos_01'"
      ]
     },
     "execution_count": 16,
     "metadata": {},
     "output_type": "execute_result"
    }
   ],
   "source": [
    "%pwd"
   ]
  },
  {
   "cell_type": "code",
   "execution_count": 17,
   "id": "c403889d",
   "metadata": {},
   "outputs": [
    {
     "name": "stdout",
     "output_type": "stream",
     "text": [
      "O Gustavo tem 30 anos.\n"
     ]
    }
   ],
   "source": [
    "nome = \"Gustavo\"\n",
    "idade = 30\n",
    "print(f'O {nome} tem {idade} anos.')    "
   ]
  },
  {
   "cell_type": "code",
   "execution_count": 18,
   "id": "52f14421",
   "metadata": {},
   "outputs": [
    {
     "name": "stdout",
     "output_type": "stream",
     "text": [
      "'s, 'x', \\\\\n"
     ]
    }
   ],
   "source": [
    "print('\\'s, \\'x\\', \\\\\\\\')"
   ]
  },
  {
   "cell_type": "code",
   "execution_count": 19,
   "id": "9fd81ca2",
   "metadata": {},
   "outputs": [
    {
     "name": "stdout",
     "output_type": "stream",
     "text": [
      "Valor de pi: 3.14\n"
     ]
    }
   ],
   "source": [
    "pi = 3.14159\n",
    "print(f'Valor de pi: {pi:.2f}')"
   ]
  },
  {
   "cell_type": "code",
   "execution_count": 20,
   "id": "1c7b6549",
   "metadata": {},
   "outputs": [
    {
     "name": "stdout",
     "output_type": "stream",
     "text": [
      "1.0\n"
     ]
    }
   ],
   "source": [
    "print((5*7)-((6*4)+(20/2)))"
   ]
  }
 ],
 "metadata": {
  "kernelspec": {
   "display_name": "estudos",
   "language": "python",
   "name": "python3"
  },
  "language_info": {
   "codemirror_mode": {
    "name": "ipython",
    "version": 3
   },
   "file_extension": ".py",
   "mimetype": "text/x-python",
   "name": "python",
   "nbconvert_exporter": "python",
   "pygments_lexer": "ipython3",
   "version": "3.13.9"
  }
 },
 "nbformat": 4,
 "nbformat_minor": 5
}
